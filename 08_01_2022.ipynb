{
 "cells": [
  {
   "cell_type": "markdown",
   "id": "acf47b68",
   "metadata": {},
   "source": [
    "sudhanshu@ineuron.ai"
   ]
  },
  {
   "cell_type": "code",
   "execution_count": 12,
   "id": "34bd047d",
   "metadata": {},
   "outputs": [
    {
     "name": "stdout",
     "output_type": "stream",
     "text": [
      "(1, 2, 3, 6, 5)\n"
     ]
    }
   ],
   "source": [
    "# Multiple argument\n",
    "def test(*args):\n",
    "    return args\n",
    "print(test(1,2,3,6,5))"
   ]
  },
  {
   "cell_type": "code",
   "execution_count": 13,
   "id": "4a3f4aa0",
   "metadata": {},
   "outputs": [
    {
     "ename": "TypeError",
     "evalue": "test() missing 1 required keyword-only argument: 'a'",
     "output_type": "error",
     "traceback": [
      "\u001b[1;31m---------------------------------------------------------------------------\u001b[0m",
      "\u001b[1;31mTypeError\u001b[0m                                 Traceback (most recent call last)",
      "\u001b[1;32m<ipython-input-13-df768f96614f>\u001b[0m in \u001b[0;36m<module>\u001b[1;34m\u001b[0m\n\u001b[0;32m      1\u001b[0m \u001b[1;32mdef\u001b[0m \u001b[0mtest\u001b[0m\u001b[1;33m(\u001b[0m\u001b[1;33m*\u001b[0m\u001b[0margs\u001b[0m\u001b[1;33m,\u001b[0m\u001b[0ma\u001b[0m\u001b[1;33m)\u001b[0m\u001b[1;33m:\u001b[0m\u001b[1;33m\u001b[0m\u001b[1;33m\u001b[0m\u001b[0m\n\u001b[0;32m      2\u001b[0m     \u001b[1;32mreturn\u001b[0m \u001b[0margs\u001b[0m\u001b[1;33m\u001b[0m\u001b[1;33m\u001b[0m\u001b[0m\n\u001b[1;32m----> 3\u001b[1;33m \u001b[0mprint\u001b[0m\u001b[1;33m(\u001b[0m\u001b[0mtest\u001b[0m\u001b[1;33m(\u001b[0m\u001b[1;36m1\u001b[0m\u001b[1;33m,\u001b[0m\u001b[1;36m2\u001b[0m\u001b[1;33m,\u001b[0m\u001b[1;36m3\u001b[0m\u001b[1;33m,\u001b[0m\u001b[1;36m6\u001b[0m\u001b[1;33m,\u001b[0m\u001b[1;36m5\u001b[0m\u001b[1;33m)\u001b[0m\u001b[1;33m)\u001b[0m\u001b[1;33m\u001b[0m\u001b[1;33m\u001b[0m\u001b[0m\n\u001b[0m",
      "\u001b[1;31mTypeError\u001b[0m: test() missing 1 required keyword-only argument: 'a'"
     ]
    }
   ],
   "source": [
    "def test(*args,a):\n",
    "    return args\n",
    "print(test(1,2,3,6,5))"
   ]
  },
  {
   "cell_type": "code",
   "execution_count": 14,
   "id": "390de76c",
   "metadata": {},
   "outputs": [
    {
     "name": "stdout",
     "output_type": "stream",
     "text": [
      "(2, 3, 6, 5)\n"
     ]
    }
   ],
   "source": [
    "def test(a,*args):\n",
    "    return args\n",
    "print(test(1,2,3,6,5))"
   ]
  },
  {
   "cell_type": "code",
   "execution_count": 15,
   "id": "29d289a7",
   "metadata": {},
   "outputs": [
    {
     "ename": "TypeError",
     "evalue": "test() got multiple values for argument 'a'",
     "output_type": "error",
     "traceback": [
      "\u001b[1;31m---------------------------------------------------------------------------\u001b[0m",
      "\u001b[1;31mTypeError\u001b[0m                                 Traceback (most recent call last)",
      "\u001b[1;32m<ipython-input-15-7e22a2553f9a>\u001b[0m in \u001b[0;36m<module>\u001b[1;34m\u001b[0m\n\u001b[0;32m      1\u001b[0m \u001b[1;32mdef\u001b[0m \u001b[0mtest\u001b[0m\u001b[1;33m(\u001b[0m\u001b[0ma\u001b[0m\u001b[1;33m,\u001b[0m\u001b[1;33m*\u001b[0m\u001b[0margs\u001b[0m\u001b[1;33m)\u001b[0m\u001b[1;33m:\u001b[0m\u001b[1;33m\u001b[0m\u001b[1;33m\u001b[0m\u001b[0m\n\u001b[0;32m      2\u001b[0m     \u001b[1;32mreturn\u001b[0m \u001b[0margs\u001b[0m\u001b[1;33m\u001b[0m\u001b[1;33m\u001b[0m\u001b[0m\n\u001b[1;32m----> 3\u001b[1;33m \u001b[0mprint\u001b[0m\u001b[1;33m(\u001b[0m\u001b[0mtest\u001b[0m\u001b[1;33m(\u001b[0m\u001b[1;36m1\u001b[0m\u001b[1;33m,\u001b[0m\u001b[1;36m2\u001b[0m\u001b[1;33m,\u001b[0m\u001b[1;36m3\u001b[0m\u001b[1;33m,\u001b[0m\u001b[1;36m6\u001b[0m\u001b[1;33m,\u001b[0m\u001b[0ma\u001b[0m\u001b[1;33m=\u001b[0m\u001b[1;36m5\u001b[0m\u001b[1;33m)\u001b[0m\u001b[1;33m)\u001b[0m\u001b[1;33m\u001b[0m\u001b[1;33m\u001b[0m\u001b[0m\n\u001b[0m",
      "\u001b[1;31mTypeError\u001b[0m: test() got multiple values for argument 'a'"
     ]
    }
   ],
   "source": [
    "def test(a,*args):\n",
    "    return args\n",
    "print(test(1,2,3,6,a=5))"
   ]
  },
  {
   "cell_type": "code",
   "execution_count": 17,
   "id": "71cc9150",
   "metadata": {},
   "outputs": [
    {
     "name": "stdout",
     "output_type": "stream",
     "text": [
      "5\n"
     ]
    }
   ],
   "source": [
    "def test(*args, a):\n",
    "    return a\n",
    "print(test(1,2,3,6,a=5))"
   ]
  },
  {
   "cell_type": "code",
   "execution_count": 6,
   "id": "b1eb57e4",
   "metadata": {},
   "outputs": [
    {
     "name": "stdout",
     "output_type": "stream",
     "text": [
      "((1, 2, 3, 6, 5), {'name': 'Praveen', 'num': 2})\n"
     ]
    }
   ],
   "source": [
    "# multiple key word arguments\n",
    "def test(*args, **kwargs):\n",
    "    return args, kwargs\n",
    "print(test(1,2,3,6,5, name = 'Praveen', num = 2))"
   ]
  },
  {
   "cell_type": "code",
   "execution_count": 18,
   "id": "79391571",
   "metadata": {},
   "outputs": [
    {
     "name": "stdout",
     "output_type": "stream",
     "text": [
      "[1, 3, 5, 6, 7]\n"
     ]
    }
   ],
   "source": [
    "### can also use yield function #####\n",
    "def test1(*args,**kwargs):\n",
    "    new = []\n",
    "    for ele in args:\n",
    "        if type(ele) == list:\n",
    "            new += ele\n",
    "    return new\n",
    "print(test1(1,2,[1,3],[5,6,7]))"
   ]
  },
  {
   "cell_type": "code",
   "execution_count": 19,
   "id": "51e862e7",
   "metadata": {},
   "outputs": [
    {
     "name": "stdout",
     "output_type": "stream",
     "text": [
      "[[1, 3], [5, 6, 7]]\n"
     ]
    }
   ],
   "source": [
    "def test1(*args,**kwargs):\n",
    "    new = []\n",
    "    for ele in args:\n",
    "        if type(ele) == list:\n",
    "            new.append(ele)\n",
    "    return new\n",
    "print(test1(1,2,[1,3],[5,6,7]))"
   ]
  },
  {
   "cell_type": "code",
   "execution_count": 20,
   "id": "4a76b635",
   "metadata": {},
   "outputs": [
    {
     "name": "stdout",
     "output_type": "stream",
     "text": [
      "{'a': 1, 'b': {2, 5, 6}}\n"
     ]
    }
   ],
   "source": [
    "def test2(*args,**kwargs):\n",
    "    return kwargs\n",
    "print(test2(a=1,b={2,5,6}))"
   ]
  },
  {
   "cell_type": "markdown",
   "id": "0bd665bd",
   "metadata": {},
   "source": [
    "## Anonymous functions"
   ]
  },
  {
   "cell_type": "code",
   "execution_count": 21,
   "id": "db6e7e86",
   "metadata": {},
   "outputs": [
    {
     "name": "stdout",
     "output_type": "stream",
     "text": [
      "6\n"
     ]
    }
   ],
   "source": [
    "\n",
    "def multiply(a,b):\n",
    "    return a*b\n",
    "print(multiply(2,3))"
   ]
  },
  {
   "cell_type": "code",
   "execution_count": 22,
   "id": "cebc3c07",
   "metadata": {},
   "outputs": [
    {
     "data": {
      "text/plain": [
       "<function __main__.<lambda>(a, b)>"
      ]
     },
     "execution_count": 22,
     "metadata": {},
     "output_type": "execute_result"
    }
   ],
   "source": [
    "lambda a,b:a*b # lambda followed by inputs: operation or return value"
   ]
  },
  {
   "cell_type": "code",
   "execution_count": 27,
   "id": "1c46f914",
   "metadata": {},
   "outputs": [
    {
     "data": {
      "text/plain": [
       "6"
      ]
     },
     "execution_count": 27,
     "metadata": {},
     "output_type": "execute_result"
    }
   ],
   "source": [
    "## how to pass input? give name and invoke it\n",
    "multiply_lambda = lambda a,b:a*b\n",
    "multiply_lambda(2,3)"
   ]
  },
  {
   "cell_type": "code",
   "execution_count": 26,
   "id": "41d92cc3",
   "metadata": {},
   "outputs": [
    {
     "data": {
      "text/plain": [
       "(6, 5)"
      ]
     },
     "execution_count": 26,
     "metadata": {},
     "output_type": "execute_result"
    }
   ],
   "source": [
    "multiply_lambda = lambda a,b:(a*b,a+b)\n",
    "multiply_lambda(2,3)"
   ]
  },
  {
   "cell_type": "code",
   "execution_count": 30,
   "id": "9d28e540",
   "metadata": {},
   "outputs": [],
   "source": [
    "b = lambda x: [i for i in x]"
   ]
  },
  {
   "cell_type": "code",
   "execution_count": 31,
   "id": "85454673",
   "metadata": {},
   "outputs": [],
   "source": [
    "c = lambda **x: x"
   ]
  },
  {
   "cell_type": "code",
   "execution_count": null,
   "id": "447523b4",
   "metadata": {},
   "outputs": [],
   "source": []
  }
 ],
 "metadata": {
  "kernelspec": {
   "display_name": "Python 3",
   "language": "python",
   "name": "python3"
  },
  "language_info": {
   "codemirror_mode": {
    "name": "ipython",
    "version": 3
   },
   "file_extension": ".py",
   "mimetype": "text/x-python",
   "name": "python",
   "nbconvert_exporter": "python",
   "pygments_lexer": "ipython3",
   "version": "3.8.8"
  }
 },
 "nbformat": 4,
 "nbformat_minor": 5
}
