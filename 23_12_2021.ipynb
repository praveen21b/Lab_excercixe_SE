{
 "cells": [
  {
   "cell_type": "markdown",
   "id": "06a3f5b9",
   "metadata": {},
   "source": [
    "## Fucntion\n",
    "for reusability purpose"
   ]
  },
  {
   "cell_type": "code",
   "execution_count": 1,
   "id": "3a29024b",
   "metadata": {},
   "outputs": [
    {
     "data": {
      "text/plain": [
       "7"
      ]
     },
     "execution_count": 1,
     "metadata": {},
     "output_type": "execute_result"
    }
   ],
   "source": [
    "len('Praveen')"
   ]
  },
  {
   "cell_type": "code",
   "execution_count": 9,
   "id": "40c2e9b0",
   "metadata": {},
   "outputs": [],
   "source": [
    "def test():\n",
    "    pass # Dont do anything"
   ]
  },
  {
   "cell_type": "code",
   "execution_count": 10,
   "id": "708b3fe0",
   "metadata": {},
   "outputs": [
    {
     "name": "stdout",
     "output_type": "stream",
     "text": [
      "This is my first function!\n"
     ]
    }
   ],
   "source": [
    "def test1():\n",
    "    print('This is my first function!')"
   ]
  },
  {
   "cell_type": "code",
   "execution_count": 11,
   "id": "bdad9ef2",
   "metadata": {},
   "outputs": [
    {
     "name": "stdout",
     "output_type": "stream",
     "text": [
      "This is my first function!\n"
     ]
    }
   ],
   "source": [
    "a = test1()"
   ]
  },
  {
   "cell_type": "code",
   "execution_count": 18,
   "id": "8151af19",
   "metadata": {},
   "outputs": [
    {
     "data": {
      "text/plain": [
       "str"
      ]
     },
     "execution_count": 18,
     "metadata": {},
     "output_type": "execute_result"
    }
   ],
   "source": [
    "type(str(a))"
   ]
  },
  {
   "cell_type": "code",
   "execution_count": 16,
   "id": "85330504",
   "metadata": {},
   "outputs": [],
   "source": [
    " b = str(a) + 'bcs'"
   ]
  },
  {
   "cell_type": "code",
   "execution_count": 17,
   "id": "e9c606fe",
   "metadata": {},
   "outputs": [
    {
     "data": {
      "text/plain": [
       "'Nonebcs'"
      ]
     },
     "execution_count": 17,
     "metadata": {},
     "output_type": "execute_result"
    }
   ],
   "source": [
    "b"
   ]
  },
  {
   "cell_type": "code",
   "execution_count": 20,
   "id": "6c0f8400",
   "metadata": {},
   "outputs": [],
   "source": [
    "def test2():\n",
    "    return ('This is my first function!')"
   ]
  },
  {
   "cell_type": "code",
   "execution_count": 21,
   "id": "0f8c05ae",
   "metadata": {},
   "outputs": [
    {
     "data": {
      "text/plain": [
       "['a', 'b']"
      ]
     },
     "execution_count": 21,
     "metadata": {},
     "output_type": "execute_result"
    }
   ],
   "source": [
    "['a'] + ['b']"
   ]
  },
  {
   "cell_type": "code",
   "execution_count": 34,
   "id": "45162e3b",
   "metadata": {},
   "outputs": [],
   "source": [
    "def test3():\n",
    "    return 1,3,5,'Praveen', [1,2,5,9]\n",
    "a,b,*c,d= test3() ## Tuple unpacking"
   ]
  },
  {
   "cell_type": "code",
   "execution_count": 35,
   "id": "0e0ccf67",
   "metadata": {},
   "outputs": [
    {
     "data": {
      "text/plain": [
       "1"
      ]
     },
     "execution_count": 35,
     "metadata": {},
     "output_type": "execute_result"
    }
   ],
   "source": [
    "a"
   ]
  },
  {
   "cell_type": "code",
   "execution_count": 36,
   "id": "7d8c3c91",
   "metadata": {},
   "outputs": [
    {
     "data": {
      "text/plain": [
       "3"
      ]
     },
     "execution_count": 36,
     "metadata": {},
     "output_type": "execute_result"
    }
   ],
   "source": [
    "b"
   ]
  },
  {
   "cell_type": "code",
   "execution_count": 37,
   "id": "384c193d",
   "metadata": {},
   "outputs": [
    {
     "data": {
      "text/plain": [
       "[5, 'Praveen']"
      ]
     },
     "execution_count": 37,
     "metadata": {},
     "output_type": "execute_result"
    }
   ],
   "source": [
    "c"
   ]
  },
  {
   "cell_type": "code",
   "execution_count": 38,
   "id": "95233217",
   "metadata": {},
   "outputs": [
    {
     "data": {
      "text/plain": [
       "[1, 2, 5, 9]"
      ]
     },
     "execution_count": 38,
     "metadata": {},
     "output_type": "execute_result"
    }
   ],
   "source": [
    "d"
   ]
  },
  {
   "cell_type": "code",
   "execution_count": 43,
   "id": "1e4ea587",
   "metadata": {},
   "outputs": [
    {
     "name": "stdout",
     "output_type": "stream",
     "text": [
      "[3, 4, 5, 6, 7, 7]\n"
     ]
    }
   ],
   "source": [
    "def lst(lst):\n",
    "    if type(lst) == list or type(lst) == tuple or type(lst) == set:\n",
    "        return [ele for ele in lst if type(ele) == int]\n",
    "print(lst([3,4,5,6,7,7,'Sudh',[1,3,4,54,56]]))"
   ]
  },
  {
   "cell_type": "code",
   "execution_count": 49,
   "id": "ea05fbf5",
   "metadata": {},
   "outputs": [],
   "source": [
    "def keys(dicts):\n",
    "    if type(dicts)==dict:\n",
    "        a = dicts.keys()\n",
    "        print(a)\n",
    "    else:\n",
    "        a = 'Enter a dictionary as input'\n",
    "    return list(a)"
   ]
  },
  {
   "cell_type": "code",
   "execution_count": 50,
   "id": "846adb0d",
   "metadata": {},
   "outputs": [
    {
     "name": "stdout",
     "output_type": "stream",
     "text": [
      "dict_keys(['praveen', 'b'])\n",
      "['praveen', 'b']\n"
     ]
    }
   ],
   "source": [
    "print(keys({'praveen': 1, 'b':3}))"
   ]
  },
  {
   "cell_type": "code",
   "execution_count": 52,
   "id": "a5f16db4",
   "metadata": {},
   "outputs": [
    {
     "data": {
      "text/plain": [
       "NoneType"
      ]
     },
     "execution_count": 52,
     "metadata": {},
     "output_type": "execute_result"
    }
   ],
   "source": [
    "type([1,2].extend([3,4]))"
   ]
  },
  {
   "cell_type": "code",
   "execution_count": null,
   "id": "01777505",
   "metadata": {},
   "outputs": [],
   "source": []
  },
  {
   "cell_type": "code",
   "execution_count": 82,
   "id": "6c5872fa",
   "metadata": {
    "scrolled": true
   },
   "outputs": [
    {
     "name": "stdout",
     "output_type": "stream",
     "text": [
      ". \r\n",
      ". . \r\n",
      ". . . \r\n"
     ]
    }
   ],
   "source": [
    "def triangle1(num):\n",
    "    for i in range(0,num):\n",
    "        #print(i)\n",
    "        for j in range(0,i+1):\n",
    "            print(\".\", end = ' ')\n",
    "        print('\\r')\n",
    "(triangle1(3))"
   ]
  },
  {
   "cell_type": "code",
   "execution_count": 78,
   "id": "348baeb7",
   "metadata": {},
   "outputs": [
    {
     "name": "stdout",
     "output_type": "stream",
     "text": [
      "Help on function triangle in module __main__:\n",
      "\n",
      "triangle(num)\n",
      "    Creating triangle\n",
      "\n"
     ]
    }
   ],
   "source": [
    "help(triangle)"
   ]
  },
  {
   "cell_type": "code",
   "execution_count": null,
   "id": "be0cd866",
   "metadata": {},
   "outputs": [],
   "source": []
  },
  {
   "cell_type": "code",
   "execution_count": 77,
   "id": "2e5874b6",
   "metadata": {},
   "outputs": [
    {
     "name": "stdout",
     "output_type": "stream",
     "text": [
      ". \n",
      ". . \n",
      ". . . \n"
     ]
    },
    {
     "data": {
      "text/plain": [
       "<function __main__.triangle(num)>"
      ]
     },
     "execution_count": 77,
     "metadata": {},
     "output_type": "execute_result"
    }
   ],
   "source": [
    "def triangle(num):\n",
    "    \"\"\"Creating triangle\"\"\"\n",
    "    for i in range(0,num):\n",
    "        #print(i)\n",
    "        print(\". \" * (i+1))\n",
    "(triangle(3))"
   ]
  },
  {
   "cell_type": "raw",
   "id": "be57605c",
   "metadata": {},
   "source": [
    "1 . you have to write a fun which will take string and return a len of \n",
    "it without using a inbuilt fun len\n",
    "2 . write a fun which will be able to print an index of all premitive element which you will pass \n",
    "3 . Write a fun which will take input as a dict and give me out as a list of all the values \n",
    "even in case of 2 level nesting it should work . \n",
    "4 . write a fun which will take another function as an input and return me an output \n",
    "5. write a function whihc will take multiple list as a input and give me concatnation of all the element as \n",
    "and output \n",
    "6 . write a function which will be able to take a list as an input return an index of each element \n",
    "like a inbuilt index function but even if we have repetative element it should return index \n",
    "7 . Write a function which will whould return list of all the file name from a directory . \n",
    "8  . write a function which will be able to show your system configuration . \n",
    "9 . write a function which will be able to show date and time  . \n",
    "10 . write a function whihc will be able to read a image file and show it to you .\n",
    "11 . write a function which can read video file and play for you . \n",
    "12  . write a function whihc can move a file from one directory to another directory . \n",
    "13 . write a function which will be able to shutdonw your system . \n",
    "14 . write a function whihc will be able to access your mail . \n",
    "15 . write a func bywhcih i can send a mail to anyone \n",
    "16. write a func to read a complete PDf file . \n",
    "17. write a function to read a word file . \n",
    "18 . write a function which can help you to filter only word file from a directory . \n",
    "19 . write a function by which you can print an ip address of your system . \n",
    "20 . write a function by whihc you will be able to append two PDF files . "
   ]
  },
  {
   "cell_type": "code",
   "execution_count": 83,
   "id": "cffb15ad",
   "metadata": {},
   "outputs": [
    {
     "name": "stdout",
     "output_type": "stream",
     "text": [
      "7\n"
     ]
    }
   ],
   "source": [
    "def length(text):a\n",
    "    \"\"\" Finding the length of a String without using inbuilt len function \"\"\"\n",
    "    count = 0\n",
    "    for ele in text:\n",
    "        count += 1\n",
    "    return count\n",
    "print(length('Praveen'))"
   ]
  },
  {
   "cell_type": "code",
   "execution_count": 85,
   "id": "e2c0b895",
   "metadata": {},
   "outputs": [
    {
     "name": "stdout",
     "output_type": "stream",
     "text": [
      "4\n",
      "4\n"
     ]
    }
   ],
   "source": [
    "def indexing(text,letter):\n",
    "    \"\"\" This function is used to find the indices of a letterin a text \"\"\"\n",
    "    for ele in letter:\n",
    "        if text == ele:\n",
    "            a = letter.find(ele)\n",
    "            print(a)\n",
    "indexing('e','Praveen')"
   ]
  },
  {
   "cell_type": "code",
   "execution_count": 89,
   "id": "64ca01f1",
   "metadata": {},
   "outputs": [
    {
     "name": "stdout",
     "output_type": "stream",
     "text": [
      "Index of P is 0\n",
      "Index of r is 1\n",
      "Index of a is 2\n",
      "Index of v is 3\n",
      "Index of e is 4\n",
      "Index of e is 5\n",
      "Index of n is 6\n"
     ]
    }
   ],
   "source": [
    "def indexing(letter):\n",
    "    \"\"\" This function is used to find the indices of a letterin a text \"\"\"\n",
    "    for ele in range(len(letter)):\n",
    "        print(f'Index of {letter[ele]} is {ele}')\n",
    "indexing('Praveen')"
   ]
  },
  {
   "cell_type": "code",
   "execution_count": null,
   "id": "97bd8618",
   "metadata": {},
   "outputs": [],
   "source": [
    "# Write a fun which will take input as a dict and give me out as a list of all the values \n",
    "# even in case of 2 level nesting it should work\n",
    "def even(dicts):\n",
    "    \"\"\"Function takes dict as an input and return list of of all values inside the dicts and nested dicts \"\"\"\n",
    "    new = []\n",
    "    if type(dicts) == dict:\n",
    "        for value in dicts.values():\n",
    "            if type(value)== int or type(value)== str:\n",
    "                new.append(value)\n",
    "            elif type(value)== str"
   ]
  }
 ],
 "metadata": {
  "kernelspec": {
   "display_name": "Python 3",
   "language": "python",
   "name": "python3"
  },
  "language_info": {
   "codemirror_mode": {
    "name": "ipython",
    "version": 3
   },
   "file_extension": ".py",
   "mimetype": "text/x-python",
   "name": "python",
   "nbconvert_exporter": "python",
   "pygments_lexer": "ipython3",
   "version": "3.8.8"
  }
 },
 "nbformat": 4,
 "nbformat_minor": 5
}
