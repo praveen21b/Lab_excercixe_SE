{
 "cells": [
  {
   "cell_type": "markdown",
   "id": "15a8468d",
   "metadata": {},
   "source": [
    "Compiler Error - SyntaxError\n",
    "\n",
    "Runtime error - Handled by exception handling"
   ]
  },
  {
   "cell_type": "code",
   "execution_count": 2,
   "id": "4f2df235",
   "metadata": {},
   "outputs": [
    {
     "name": "stdout",
     "output_type": "stream",
     "text": [
      "not writable\n"
     ]
    }
   ],
   "source": [
    "# Runtime error\n",
    "try:\n",
    "    # suspicious code block\n",
    "    f = open('test.txt','r')\n",
    "    f.write('Writing')\n",
    "    print('Print something')\n",
    "    \n",
    "except Exception as e:\n",
    "    print(e)"
   ]
  },
  {
   "cell_type": "code",
   "execution_count": 4,
   "id": "af182bf6",
   "metadata": {},
   "outputs": [
    {
     "ename": "SyntaxError",
     "evalue": "invalid syntax (Temp/ipykernel_8772/1667294671.py, line 6)",
     "output_type": "error",
     "traceback": [
      "\u001b[1;36m  File \u001b[1;32m\"C:\\Users\\Praveen\\AppData\\Local\\Temp/ipykernel_8772/1667294671.py\"\u001b[1;36m, line \u001b[1;32m6\u001b[0m\n\u001b[1;33m    print('Print something')\u001b[0m\n\u001b[1;37m    ^\u001b[0m\n\u001b[1;31mSyntaxError\u001b[0m\u001b[1;31m:\u001b[0m invalid syntax\n"
     ]
    }
   ],
   "source": [
    "# Compiler error can not handled by exception handling\n",
    "try:\n",
    "    # suspicious code block\n",
    "    f = open('test.txt','r'\n",
    "    #f.write('Writing')\n",
    "    print('Print something')\n",
    "    \n",
    "except Exception as e:\n",
    "    print(e)"
   ]
  },
  {
   "cell_type": "code",
   "execution_count": 5,
   "id": "d1ef1823",
   "metadata": {},
   "outputs": [
    {
     "ename": "SyntaxError",
     "evalue": "invalid syntax (Temp/ipykernel_8772/1544028342.py, line 4)",
     "output_type": "error",
     "traceback": [
      "\u001b[1;36m  File \u001b[1;32m\"C:\\Users\\Praveen\\AppData\\Local\\Temp/ipykernel_8772/1544028342.py\"\u001b[1;36m, line \u001b[1;32m4\u001b[0m\n\u001b[1;33m    for i range(4):\u001b[0m\n\u001b[1;37m          ^\u001b[0m\n\u001b[1;31mSyntaxError\u001b[0m\u001b[1;31m:\u001b[0m invalid syntax\n"
     ]
    }
   ],
   "source": [
    "# Compiler error can not handled by exception handling\n",
    "try:\n",
    "    # suspicious code block\n",
    "    for i range(4):\n",
    "        print(i)\n",
    "    \n",
    "except Exception as e:\n",
    "    print(e)"
   ]
  },
  {
   "cell_type": "code",
   "execution_count": 6,
   "id": "118851d5",
   "metadata": {},
   "outputs": [
    {
     "name": "stdout",
     "output_type": "stream",
     "text": [
      "dsfsdffs\n",
      "invalid literal for int() with base 10: 'dsfsdffs'\n"
     ]
    }
   ],
   "source": [
    "####\n",
    "try:\n",
    "    d= {'key1': 'Praveen', 'key2': [1,2,3,4,50], 'key3': (4,5,6,7,8)}\n",
    "    d['key4'] = int(input())\n",
    "    \n",
    "except Exception as e:\n",
    "    print(e)"
   ]
  },
  {
   "cell_type": "code",
   "execution_count": 7,
   "id": "ab58eaf5",
   "metadata": {},
   "outputs": [
    {
     "name": "stdout",
     "output_type": "stream",
     "text": [
      "123\n",
      "Prints only if try block executes successfully\n",
      "Always prints even if try block fails to execute\n"
     ]
    }
   ],
   "source": [
    "####\n",
    "try:\n",
    "    d= {'key1': 'Praveen', 'key2': [1,2,3,4,50], 'key3': (4,5,6,7,8)}\n",
    "    d['key4'] = int(input())\n",
    "    \n",
    "except Exception as e:\n",
    "    print(e)\n",
    "    \n",
    "else:\n",
    "    print('Prints only if try block executes successfully')\n",
    "\n",
    "finally:\n",
    "    print('Always prints even if try block fails to execute')"
   ]
  },
  {
   "cell_type": "code",
   "execution_count": 8,
   "id": "8361db42",
   "metadata": {},
   "outputs": [
    {
     "name": "stdout",
     "output_type": "stream",
     "text": [
      "adggad\n",
      "invalid literal for int() with base 10: 'adggad'\n",
      "Always prints even if try block fails to execute\n"
     ]
    }
   ],
   "source": [
    "try:\n",
    "    d= {'key1': 'Praveen', 'key2': [1,2,3,4,50], 'key3': (4,5,6,7,8)}\n",
    "    d['key4'] = int(input())\n",
    "    \n",
    "except Exception as e:\n",
    "    print(e)\n",
    "    \n",
    "else:\n",
    "    print('Prints only if try block executes successfully')\n",
    "\n",
    "finally:\n",
    "    print('Always prints even if try block fails to execute')"
   ]
  },
  {
   "cell_type": "code",
   "execution_count": 9,
   "id": "15a63cf3",
   "metadata": {},
   "outputs": [],
   "source": [
    "def askInt():\n",
    "    return int(input())"
   ]
  },
  {
   "cell_type": "code",
   "execution_count": 10,
   "id": "86925265",
   "metadata": {},
   "outputs": [
    {
     "name": "stdout",
     "output_type": "stream",
     "text": [
      "sdsds\n"
     ]
    },
    {
     "ename": "ValueError",
     "evalue": "invalid literal for int() with base 10: 'sdsds'",
     "output_type": "error",
     "traceback": [
      "\u001b[1;31m---------------------------------------------------------------------------\u001b[0m",
      "\u001b[1;31mValueError\u001b[0m                                Traceback (most recent call last)",
      "\u001b[1;32m~\\AppData\\Local\\Temp/ipykernel_8772/426549993.py\u001b[0m in \u001b[0;36m<module>\u001b[1;34m\u001b[0m\n\u001b[1;32m----> 1\u001b[1;33m \u001b[0maskInt\u001b[0m\u001b[1;33m(\u001b[0m\u001b[1;33m)\u001b[0m\u001b[1;33m\u001b[0m\u001b[1;33m\u001b[0m\u001b[0m\n\u001b[0m",
      "\u001b[1;32m~\\AppData\\Local\\Temp/ipykernel_8772/3094949983.py\u001b[0m in \u001b[0;36maskInt\u001b[1;34m()\u001b[0m\n\u001b[0;32m      1\u001b[0m \u001b[1;32mdef\u001b[0m \u001b[0maskInt\u001b[0m\u001b[1;33m(\u001b[0m\u001b[1;33m)\u001b[0m\u001b[1;33m:\u001b[0m\u001b[1;33m\u001b[0m\u001b[1;33m\u001b[0m\u001b[0m\n\u001b[1;32m----> 2\u001b[1;33m     \u001b[1;32mreturn\u001b[0m \u001b[0mint\u001b[0m\u001b[1;33m(\u001b[0m\u001b[0minput\u001b[0m\u001b[1;33m(\u001b[0m\u001b[1;33m)\u001b[0m\u001b[1;33m)\u001b[0m\u001b[1;33m\u001b[0m\u001b[1;33m\u001b[0m\u001b[0m\n\u001b[0m",
      "\u001b[1;31mValueError\u001b[0m: invalid literal for int() with base 10: 'sdsds'"
     ]
    }
   ],
   "source": [
    "askInt()"
   ]
  },
  {
   "cell_type": "code",
   "execution_count": 14,
   "id": "925c6742",
   "metadata": {},
   "outputs": [],
   "source": [
    "def askInt():\n",
    "    try:\n",
    "        a = int(input())\n",
    "    except Exception as e:\n",
    "        a = e\n",
    "    return a"
   ]
  },
  {
   "cell_type": "code",
   "execution_count": 11,
   "id": "c7e56ad9",
   "metadata": {},
   "outputs": [
    {
     "name": "stdout",
     "output_type": "stream",
     "text": [
      "4545\n"
     ]
    },
    {
     "data": {
      "text/plain": [
       "4545"
      ]
     },
     "execution_count": 11,
     "metadata": {},
     "output_type": "execute_result"
    }
   ],
   "source": [
    "askInt()"
   ]
  },
  {
   "cell_type": "code",
   "execution_count": 15,
   "id": "fc4a285a",
   "metadata": {},
   "outputs": [
    {
     "name": "stdout",
     "output_type": "stream",
     "text": [
      "fsfsffsf\n"
     ]
    },
    {
     "data": {
      "text/plain": [
       "ValueError(\"invalid literal for int() with base 10: 'fsfsffsf'\")"
      ]
     },
     "execution_count": 15,
     "metadata": {},
     "output_type": "execute_result"
    }
   ],
   "source": [
    "askInt()"
   ]
  },
  {
   "cell_type": "code",
   "execution_count": 16,
   "id": "c7549524",
   "metadata": {},
   "outputs": [
    {
     "name": "stdout",
     "output_type": "stream",
     "text": [
      "sdsfddg\n",
      "invalid literal for int() with base 10: 'sdsfddg'\n"
     ]
    }
   ],
   "source": [
    "print(askInt())"
   ]
  },
  {
   "cell_type": "code",
   "execution_count": 46,
   "id": "501a93a6",
   "metadata": {},
   "outputs": [],
   "source": [
    "def askInt():\n",
    "    \"\"\" This function ask for integer input unless provided one\"\"\"\n",
    "    flag = True\n",
    "    while flag:\n",
    "        try:\n",
    "            a = int(input())\n",
    "            if type(a) == int:\n",
    "                print('Yes!, you have entered an integer.')\n",
    "                flag = False\n",
    "        except Exception as e:\n",
    "            #a = e\n",
    "            print(e)\n",
    "    return a"
   ]
  },
  {
   "cell_type": "code",
   "execution_count": 47,
   "id": "9a0be8f6",
   "metadata": {},
   "outputs": [
    {
     "name": "stdout",
     "output_type": "stream",
     "text": [
      "sdsdsd\n",
      "invalid literal for int() with base 10: 'sdsdsd'\n",
      "45\n",
      "Yes!, you have entered an integer.\n",
      "45\n"
     ]
    }
   ],
   "source": [
    "print(askInt())"
   ]
  },
  {
   "cell_type": "code",
   "execution_count": 50,
   "id": "b6eacc0c",
   "metadata": {},
   "outputs": [],
   "source": [
    "def askInt():\n",
    "    \"\"\" This function ask for integer input unless provided one\"\"\"\n",
    "    while True:\n",
    "        try:\n",
    "            a = int(input())\n",
    "            print('Yes!, you have entered an integer.')\n",
    "            break\n",
    "        except Exception as e:\n",
    "            #a = e\n",
    "            print(e)"
   ]
  },
  {
   "cell_type": "code",
   "execution_count": 51,
   "id": "4764d6fb",
   "metadata": {},
   "outputs": [
    {
     "name": "stdout",
     "output_type": "stream",
     "text": [
      "sasas\n",
      "invalid literal for int() with base 10: 'sasas'\n",
      "45\n",
      "Yes!, you have entered an integer.\n"
     ]
    }
   ],
   "source": [
    "askInt()"
   ]
  },
  {
   "cell_type": "code",
   "execution_count": 55,
   "id": "cfb3f13f",
   "metadata": {},
   "outputs": [],
   "source": [
    "def test(a):\n",
    "    if a < 0:\n",
    "        raise Exception('Entered a negative number')\n",
    "    return a"
   ]
  },
  {
   "cell_type": "code",
   "execution_count": 56,
   "id": "69a9f4f8",
   "metadata": {},
   "outputs": [
    {
     "data": {
      "text/plain": [
       "1"
      ]
     },
     "execution_count": 56,
     "metadata": {},
     "output_type": "execute_result"
    }
   ],
   "source": [
    "test(1)"
   ]
  },
  {
   "cell_type": "code",
   "execution_count": 57,
   "id": "de320333",
   "metadata": {},
   "outputs": [
    {
     "ename": "Exception",
     "evalue": "Entered a negative Number",
     "output_type": "error",
     "traceback": [
      "\u001b[1;31m---------------------------------------------------------------------------\u001b[0m",
      "\u001b[1;31mException\u001b[0m                                 Traceback (most recent call last)",
      "\u001b[1;32m~\\AppData\\Local\\Temp/ipykernel_8772/847413613.py\u001b[0m in \u001b[0;36m<module>\u001b[1;34m\u001b[0m\n\u001b[1;32m----> 1\u001b[1;33m \u001b[0mtest\u001b[0m\u001b[1;33m(\u001b[0m\u001b[1;33m-\u001b[0m\u001b[1;36m2\u001b[0m\u001b[1;33m)\u001b[0m\u001b[1;33m\u001b[0m\u001b[1;33m\u001b[0m\u001b[0m\n\u001b[0m",
      "\u001b[1;32m~\\AppData\\Local\\Temp/ipykernel_8772/3592431270.py\u001b[0m in \u001b[0;36mtest\u001b[1;34m(a)\u001b[0m\n\u001b[0;32m      1\u001b[0m \u001b[1;32mdef\u001b[0m \u001b[0mtest\u001b[0m\u001b[1;33m(\u001b[0m\u001b[0ma\u001b[0m\u001b[1;33m)\u001b[0m\u001b[1;33m:\u001b[0m\u001b[1;33m\u001b[0m\u001b[1;33m\u001b[0m\u001b[0m\n\u001b[0;32m      2\u001b[0m     \u001b[1;32mif\u001b[0m \u001b[0ma\u001b[0m \u001b[1;33m<\u001b[0m \u001b[1;36m0\u001b[0m\u001b[1;33m:\u001b[0m\u001b[1;33m\u001b[0m\u001b[1;33m\u001b[0m\u001b[0m\n\u001b[1;32m----> 3\u001b[1;33m         \u001b[1;32mraise\u001b[0m \u001b[0mException\u001b[0m\u001b[1;33m(\u001b[0m\u001b[1;34m'Entered a negative Number'\u001b[0m\u001b[1;33m)\u001b[0m\u001b[1;33m\u001b[0m\u001b[1;33m\u001b[0m\u001b[0m\n\u001b[0m\u001b[0;32m      4\u001b[0m     \u001b[1;32mreturn\u001b[0m \u001b[0ma\u001b[0m\u001b[1;33m\u001b[0m\u001b[1;33m\u001b[0m\u001b[0m\n",
      "\u001b[1;31mException\u001b[0m: Entered a negative Number"
     ]
    }
   ],
   "source": [
    "test(-2)"
   ]
  },
  {
   "cell_type": "code",
   "execution_count": 58,
   "id": "c28155af",
   "metadata": {},
   "outputs": [],
   "source": [
    "def test(a):\n",
    "    if a < 0:\n",
    "        raise ValueError('Entered a negative number') ## overridding the superclass by Value error sub-class\n",
    "    return a"
   ]
  },
  {
   "cell_type": "code",
   "execution_count": 59,
   "id": "f22b42a4",
   "metadata": {},
   "outputs": [
    {
     "ename": "ValueError",
     "evalue": "Entered a negative number",
     "output_type": "error",
     "traceback": [
      "\u001b[1;31m---------------------------------------------------------------------------\u001b[0m",
      "\u001b[1;31mValueError\u001b[0m                                Traceback (most recent call last)",
      "\u001b[1;32m~\\AppData\\Local\\Temp/ipykernel_8772/2547699033.py\u001b[0m in \u001b[0;36m<module>\u001b[1;34m\u001b[0m\n\u001b[1;32m----> 1\u001b[1;33m \u001b[0mtest\u001b[0m\u001b[1;33m(\u001b[0m\u001b[1;33m-\u001b[0m\u001b[1;36m1\u001b[0m\u001b[1;33m)\u001b[0m\u001b[1;33m\u001b[0m\u001b[1;33m\u001b[0m\u001b[0m\n\u001b[0m",
      "\u001b[1;32m~\\AppData\\Local\\Temp/ipykernel_8772/2848911099.py\u001b[0m in \u001b[0;36mtest\u001b[1;34m(a)\u001b[0m\n\u001b[0;32m      1\u001b[0m \u001b[1;32mdef\u001b[0m \u001b[0mtest\u001b[0m\u001b[1;33m(\u001b[0m\u001b[0ma\u001b[0m\u001b[1;33m)\u001b[0m\u001b[1;33m:\u001b[0m\u001b[1;33m\u001b[0m\u001b[1;33m\u001b[0m\u001b[0m\n\u001b[0;32m      2\u001b[0m     \u001b[1;32mif\u001b[0m \u001b[0ma\u001b[0m \u001b[1;33m<\u001b[0m \u001b[1;36m0\u001b[0m\u001b[1;33m:\u001b[0m\u001b[1;33m\u001b[0m\u001b[1;33m\u001b[0m\u001b[0m\n\u001b[1;32m----> 3\u001b[1;33m         \u001b[1;32mraise\u001b[0m \u001b[0mValueError\u001b[0m\u001b[1;33m(\u001b[0m\u001b[1;34m'Entered a negative number'\u001b[0m\u001b[1;33m)\u001b[0m\u001b[1;33m\u001b[0m\u001b[1;33m\u001b[0m\u001b[0m\n\u001b[0m\u001b[0;32m      4\u001b[0m     \u001b[1;32mreturn\u001b[0m \u001b[0ma\u001b[0m\u001b[1;33m\u001b[0m\u001b[1;33m\u001b[0m\u001b[0m\n",
      "\u001b[1;31mValueError\u001b[0m: Entered a negative number"
     ]
    }
   ],
   "source": [
    "test(-1)"
   ]
  },
  {
   "cell_type": "code",
   "execution_count": 61,
   "id": "16914d89",
   "metadata": {},
   "outputs": [
    {
     "name": "stdout",
     "output_type": "stream",
     "text": [
      "-4\n",
      "Entered a negative number\n"
     ]
    }
   ],
   "source": [
    "try:\n",
    "    test(int(input()))\n",
    "except Exception as e:\n",
    "    print(e)"
   ]
  },
  {
   "cell_type": "code",
   "execution_count": null,
   "id": "f8eb74e8",
   "metadata": {},
   "outputs": [],
   "source": []
  }
 ],
 "metadata": {
  "kernelspec": {
   "display_name": "Python 3 (ipykernel)",
   "language": "python",
   "name": "python3"
  },
  "language_info": {
   "codemirror_mode": {
    "name": "ipython",
    "version": 3
   },
   "file_extension": ".py",
   "mimetype": "text/x-python",
   "name": "python",
   "nbconvert_exporter": "python",
   "pygments_lexer": "ipython3",
   "version": "3.9.7"
  }
 },
 "nbformat": 4,
 "nbformat_minor": 5
}
