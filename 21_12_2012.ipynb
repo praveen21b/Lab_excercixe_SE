{
 "cells": [
  {
   "cell_type": "code",
   "execution_count": 5,
   "id": "8406d369",
   "metadata": {},
   "outputs": [
    {
     "data": {
      "text/plain": [
       "27"
      ]
     },
     "execution_count": 5,
     "metadata": {},
     "output_type": "execute_result"
    }
   ],
   "source": [
    "s = ' This is basic python class'\n",
    "len(s)"
   ]
  },
  {
   "cell_type": "code",
   "execution_count": 7,
   "id": "54cd64df",
   "metadata": {},
   "outputs": [
    {
     "data": {
      "text/plain": [
       "3"
      ]
     },
     "execution_count": 7,
     "metadata": {},
     "output_type": "execute_result"
    }
   ],
   "source": [
    "s.count('i')"
   ]
  },
  {
   "cell_type": "code",
   "execution_count": 8,
   "id": "74d48177",
   "metadata": {},
   "outputs": [
    {
     "name": "stdout",
     "output_type": "stream",
     "text": [
      "27\n"
     ]
    }
   ],
   "source": [
    "count = 0\n",
    "for i in s:\n",
    "    count+=1\n",
    "print(count)"
   ]
  },
  {
   "cell_type": "code",
   "execution_count": 9,
   "id": "60cf071c",
   "metadata": {},
   "outputs": [
    {
     "data": {
      "text/plain": [
       "'ssalc nohtyp cisab si sihT '"
      ]
     },
     "execution_count": 9,
     "metadata": {},
     "output_type": "execute_result"
    }
   ],
   "source": [
    "s[::-1]"
   ]
  },
  {
   "cell_type": "code",
   "execution_count": 13,
   "id": "75f50954",
   "metadata": {},
   "outputs": [
    {
     "name": "stdout",
     "output_type": "stream",
     "text": [
      "ssalc nohtyp cisab si sihT \n"
     ]
    }
   ],
   "source": [
    "##using while loop\n",
    "n = len(s)-1\n",
    "new = ''\n",
    "while n >= 0:\n",
    "    n -=1\n",
    "    new += s[n+1]\n",
    "print(new)    "
   ]
  },
  {
   "cell_type": "code",
   "execution_count": 19,
   "id": "6ab5d3ec",
   "metadata": {},
   "outputs": [
    {
     "name": "stdout",
     "output_type": "stream",
     "text": [
      "s s a l c   n o h t y p   c i s a b   s i   s i h T   "
     ]
    }
   ],
   "source": [
    "n = len(s)-1\n",
    "new = ''\n",
    "while n >= 0:\n",
    "    n = n -1\n",
    "    print(s[n+1], end = ' ')\n",
    "#print(new) "
   ]
  },
  {
   "cell_type": "code",
   "execution_count": 18,
   "id": "45fde41e",
   "metadata": {},
   "outputs": [
    {
     "name": "stdout",
     "output_type": "stream",
     "text": [
      "i is a Vowel\n",
      "n is not a Vowel\n",
      "e is a Vowel\n",
      "u is a Vowel\n",
      "r is not a Vowel\n",
      "o is a Vowel\n",
      "n is not a Vowel\n"
     ]
    }
   ],
   "source": [
    "p = 'ineuron'\n",
    "v = 'AaEeIiOoUu'\n",
    "for i in p:\n",
    "    if i in v:\n",
    "        print(f'{i} is a Vowel')\n",
    "    else:\n",
    "        print(f'{i} is not a Vowel')\n",
    "            "
   ]
  },
  {
   "cell_type": "code",
   "execution_count": 22,
   "id": "47441ca7",
   "metadata": {},
   "outputs": [
    {
     "name": "stdout",
     "output_type": "stream",
     "text": [
      "tnent is a palliandrome word\n"
     ]
    }
   ],
   "source": [
    "def pil(test):\n",
    "    if test == test[::-1]:\n",
    "        return f'{test} is a palliandrome word'\n",
    "    else: \n",
    "        return f'{test} is not a palliandrome word'\n",
    "    \n",
    "print(pil('tnent'))"
   ]
  },
  {
   "cell_type": "code",
   "execution_count": 26,
   "id": "ee0ec68b",
   "metadata": {},
   "outputs": [
    {
     "name": "stdout",
     "output_type": "stream",
     "text": [
      "Enter a word: eye\n",
      "\"eye\" is a palliandrome word\n"
     ]
    }
   ],
   "source": [
    "word = input('Enter a word: ')\n",
    "new = ''\n",
    "for i in range(len(word)):\n",
    "    new += word[len(word)-1-i]\n",
    "#print(new)\n",
    "if word == new:\n",
    "    print(f'\"{word}\" is a palliandrome word')\n",
    "else:\n",
    "    print(f'\"{word}\" is not a palliandrome word')\n"
   ]
  },
  {
   "cell_type": "code",
   "execution_count": 29,
   "id": "130ff6d1",
   "metadata": {},
   "outputs": [
    {
     "name": "stdout",
     "output_type": "stream",
     "text": [
      "Enter a word: Eye\n",
      "eye\n",
      "\"Eye\" is a palliandrome word\n"
     ]
    }
   ],
   "source": [
    "word = input('Enter a word: ')\n",
    "word1= word.lower()\n",
    "new = ''\n",
    "n = len(word)-1\n",
    "while n>=0:\n",
    "    new += word1[n]\n",
    "    n-=1\n",
    "print(new)\n",
    "if word1 == new:\n",
    "    print(f'\"{word}\" is a palliandrome word')\n",
    "else:\n",
    "    print(f'\"{word}\" is not a palliandrome word')    "
   ]
  },
  {
   "cell_type": "code",
   "execution_count": 30,
   "id": "b3c0329e",
   "metadata": {},
   "outputs": [],
   "source": [
    "d = {'india': 'IN', 'canada': 'CA', 'China': 'CH',\n",
    "    'United States': 'US'}"
   ]
  },
  {
   "cell_type": "code",
   "execution_count": 31,
   "id": "d272519e",
   "metadata": {},
   "outputs": [
    {
     "data": {
      "text/plain": [
       "True"
      ]
     },
     "execution_count": 31,
     "metadata": {},
     "output_type": "execute_result"
    }
   ],
   "source": [
    "'india' in d"
   ]
  },
  {
   "cell_type": "code",
   "execution_count": 32,
   "id": "75c3eab3",
   "metadata": {},
   "outputs": [
    {
     "data": {
      "text/plain": [
       "'IN'"
      ]
     },
     "execution_count": 32,
     "metadata": {},
     "output_type": "execute_result"
    }
   ],
   "source": [
    "d.get('india')"
   ]
  },
  {
   "cell_type": "code",
   "execution_count": 33,
   "id": "71588dd9",
   "metadata": {},
   "outputs": [
    {
     "data": {
      "text/plain": [
       "'Not in the Dict'"
      ]
     },
     "execution_count": 33,
     "metadata": {},
     "output_type": "execute_result"
    }
   ],
   "source": [
    "d.get('India','Not in the Dict')"
   ]
  },
  {
   "cell_type": "code",
   "execution_count": 34,
   "id": "3f98fc8f",
   "metadata": {},
   "outputs": [
    {
     "name": "stdout",
     "output_type": "stream",
     "text": [
      "['india', 'China']\n",
      "['canada', 'United States']\n"
     ]
    }
   ],
   "source": [
    "new5 = []\n",
    "new6 = []\n",
    "for key in d.keys():\n",
    "    if len(key) > 5:\n",
    "        new6.append(key)\n",
    "    else:\n",
    "        new5.append(key)\n",
    "\n",
    "print(new5)\n",
    "print(new6)"
   ]
  },
  {
   "cell_type": "code",
   "execution_count": 37,
   "id": "12069ff9",
   "metadata": {},
   "outputs": [],
   "source": [
    "d_1 = { 'ineuron': {'a': 14, 'b': 10, 'c':4},\n",
    "       'course' : {'d': 45, 'e': 34, 'f' : 1}\n",
    "      }"
   ]
  },
  {
   "cell_type": "code",
   "execution_count": 42,
   "id": "85d0fbb4",
   "metadata": {},
   "outputs": [
    {
     "name": "stdout",
     "output_type": "stream",
     "text": [
      "14\n",
      "45\n"
     ]
    }
   ],
   "source": [
    "for key,value in d_1.items():\n",
    "    a = max(value.values())\n",
    "    print(a)       "
   ]
  },
  {
   "cell_type": "code",
   "execution_count": 47,
   "id": "a53a183e",
   "metadata": {},
   "outputs": [],
   "source": [
    "d_2 = { 'ineuron': {'a': 14, 'b': 10, 'c':4},\n",
    "       'course' : {'d': 45, 'e': 34, 'f' : 1},\n",
    "       'g':34, 'h': [45,6,7,8,9,3], 'i': (45,34,2),\n",
    "       'k':'sidh'\n",
    "      }"
   ]
  },
  {
   "cell_type": "code",
   "execution_count": 53,
   "id": "d0247480",
   "metadata": {},
   "outputs": [
    {
     "name": "stdout",
     "output_type": "stream",
     "text": [
      "[14, 10, 4, 45, 34, 1, 34, 45, 6, 7, 8, 9, 3]\n",
      "45\n"
     ]
    }
   ],
   "source": [
    "lst=[]\n",
    "for key,value in d_2.items():\n",
    "    if type(value) != complex or type(value) != str:\n",
    "        if type(value) == int:\n",
    "            lst.append(value)\n",
    "        elif type(value) == list or type(value) == set or type(value) == list:\n",
    "            lst.extend(list(value))\n",
    "        elif type(value) == dict:\n",
    "            lst.extend(list(value.values()))\n",
    "print((lst))           \n",
    "print(max(lst))\n",
    "\n",
    "    "
   ]
  },
  {
   "cell_type": "code",
   "execution_count": 49,
   "id": "1ef2db57",
   "metadata": {},
   "outputs": [
    {
     "ename": "TypeError",
     "evalue": "'complex' object is not iterable",
     "output_type": "error",
     "traceback": [
      "\u001b[1;31m---------------------------------------------------------------------------\u001b[0m",
      "\u001b[1;31mTypeError\u001b[0m                                 Traceback (most recent call last)",
      "\u001b[1;32m<ipython-input-49-7dcdfa741529>\u001b[0m in \u001b[0;36m<module>\u001b[1;34m\u001b[0m\n\u001b[1;32m----> 1\u001b[1;33m \u001b[0mmax\u001b[0m\u001b[1;33m(\u001b[0m\u001b[1;36m4\u001b[0m\u001b[1;33m+\u001b[0m\u001b[1;36m5j\u001b[0m\u001b[1;33m)\u001b[0m\u001b[1;33m\u001b[0m\u001b[1;33m\u001b[0m\u001b[0m\n\u001b[0m",
      "\u001b[1;31mTypeError\u001b[0m: 'complex' object is not iterable"
     ]
    }
   ],
   "source": [
    "max(4+5j)"
   ]
  },
  {
   "cell_type": "code",
   "execution_count": null,
   "id": "7da69f6e",
   "metadata": {},
   "outputs": [],
   "source": []
  }
 ],
 "metadata": {
  "kernelspec": {
   "display_name": "Python 3",
   "language": "python",
   "name": "python3"
  },
  "language_info": {
   "codemirror_mode": {
    "name": "ipython",
    "version": 3
   },
   "file_extension": ".py",
   "mimetype": "text/x-python",
   "name": "python",
   "nbconvert_exporter": "python",
   "pygments_lexer": "ipython3",
   "version": "3.8.8"
  }
 },
 "nbformat": 4,
 "nbformat_minor": 5
}
