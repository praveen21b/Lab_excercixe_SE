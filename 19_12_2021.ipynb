{
 "cells": [
  {
   "cell_type": "code",
   "execution_count": 2,
   "id": "f3298806",
   "metadata": {},
   "outputs": [
    {
     "data": {
      "text/plain": [
       "'C:\\\\Users\\\\Praveen'"
      ]
     },
     "execution_count": 2,
     "metadata": {},
     "output_type": "execute_result"
    }
   ],
   "source": [
    "%pwd"
   ]
  },
  {
   "cell_type": "code",
   "execution_count": 3,
   "id": "4b2d839d",
   "metadata": {},
   "outputs": [
    {
     "name": "stdout",
     "output_type": "stream",
     "text": [
      "D:\\Study\\Machine Learning\\Class Programs\n"
     ]
    }
   ],
   "source": [
    "%cd D:\\Study\\Machine Learning\\Class Programs"
   ]
  },
  {
   "cell_type": "code",
   "execution_count": 4,
   "id": "5267d4d1",
   "metadata": {},
   "outputs": [
    {
     "data": {
      "text/plain": [
       "'D:\\\\Study\\\\Machine Learning\\\\Class Programs'"
      ]
     },
     "execution_count": 4,
     "metadata": {},
     "output_type": "execute_result"
    }
   ],
   "source": [
    "%pwd"
   ]
  },
  {
   "cell_type": "code",
   "execution_count": 10,
   "id": "e3896a7d",
   "metadata": {},
   "outputs": [
    {
     "name": "stdout",
     "output_type": "stream",
     "text": [
      "Index of 2 is 0\n",
      "Index of 45 is 1\n",
      "Index of 78 is 2\n",
      "Index of 12 is 3\n",
      "Index of sudh is 4\n",
      "Index of (6+7j) is 5\n",
      "Index of [56, 67, 78, 'dsfdsf'] is 6\n",
      "Sting's char in the list is d\n",
      "Sting's char in the list is s\n",
      "Sting's char in the list is f\n",
      "Sting's char in the list is d\n",
      "Sting's char in the list is s\n",
      "Sting's char in the list is f\n",
      "Square of integers, [4, 2025, 6084, 144, 3136, 4489, 6084]\n"
     ]
    }
   ],
   "source": [
    "# Indexing with Enumerate\n",
    "l = [2,45,78,12,'sudh', 6+7j,[56,67,78,'dsfdsf']]\n",
    "new = []\n",
    "for idx,value in enumerate(l):\n",
    "    print(f'Index of {value} is {idx}')\n",
    "    if type(value) == int:\n",
    "        new.append(value**2)\n",
    "    elif type(value) == list:\n",
    "        for val in value:\n",
    "            if type(val) == str:\n",
    "                for idx, ele in enumerate(val):\n",
    "                    print(f\"Sting's char in the list is {ele}\")\n",
    "            elif type(val) == int:\n",
    "                new.append(val**2)\n",
    "print(f'Square of integers, {new}')           \n",
    "    "
   ]
  },
  {
   "cell_type": "code",
   "execution_count": 28,
   "id": "c2013be1",
   "metadata": {},
   "outputs": [
    {
     "data": {
      "text/plain": [
       "'D:\\\\Study\\\\Machine Learning\\\\Class Programs'"
      ]
     },
     "execution_count": 28,
     "metadata": {},
     "output_type": "execute_result"
    }
   ],
   "source": [
    "%pwd"
   ]
  },
  {
   "cell_type": "code",
   "execution_count": 27,
   "id": "a5a0f822",
   "metadata": {},
   "outputs": [
    {
     "name": "stdout",
     "output_type": "stream",
     "text": [
      "0\n",
      "1\n",
      "2\n",
      "3\n",
      "4\n",
      "5\n",
      "6\n",
      "d\n",
      "s\n",
      "f\n",
      "d\n",
      "s\n",
      "f\n",
      "[4, 2025, 6084, 144, 3136, 4489, 6084]\n"
     ]
    }
   ],
   "source": [
    "# Indexing with Range and Length of the list\n",
    "l = [2,45,78,12,'sudh', 6+7j,[56,67,78,'dsfdsf']]\n",
    "new = []\n",
    "for i in range(len(l)):\n",
    "    print(i)\n",
    "    if type(l[i]) == int:\n",
    "        new.append(l[i]**2)\n",
    "    elif type(l[i]) == list:\n",
    "        for val in l[i]:\n",
    "            if type(val) == str:\n",
    "                for ele in val:\n",
    "                    print(ele)\n",
    "            elif type(val) == int:\n",
    "                new.append(val**2)\n",
    "    \n",
    "print(new) "
   ]
  }
 ],
 "metadata": {
  "kernelspec": {
   "display_name": "Python 3",
   "language": "python",
   "name": "python3"
  },
  "language_info": {
   "codemirror_mode": {
    "name": "ipython",
    "version": 3
   },
   "file_extension": ".py",
   "mimetype": "text/x-python",
   "name": "python",
   "nbconvert_exporter": "python",
   "pygments_lexer": "ipython3",
   "version": "3.8.8"
  }
 },
 "nbformat": 4,
 "nbformat_minor": 5
}
